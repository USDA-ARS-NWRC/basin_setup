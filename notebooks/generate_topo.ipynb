{
 "cells": [
  {
   "cell_type": "markdown",
   "source": [
    "# Generate Topo"
   ],
   "metadata": {}
  },
  {
   "cell_type": "code",
   "execution_count": null,
   "source": [
    "import geopandas as gpd\n",
    "import rasterio\n",
    "from rasterio import features\n",
    "import xarray as xr\n",
    "import rioxarray\n",
    "from rasterio.enums import Resampling\n",
    "\n",
    "import numpy as np\n",
    "import matplotlib.pyplot as plt\n",
    "\n",
    "from basin_setup.generate_topo.shapefile import Shapefile\n",
    "from basin_setup.utils import config, domain_extent\n"
   ],
   "outputs": [],
   "metadata": {}
  },
  {
   "cell_type": "markdown",
   "source": [
    "# Loading shapefile\n",
    "\n",
    "Load the shapefile and convert to a mask"
   ],
   "metadata": {}
  },
  {
   "cell_type": "code",
   "execution_count": null,
   "source": [
    "file_name = '../tests/Lakes/gold/basin_outline.shp'\n",
    "cell_size = 150\n",
    "# extents = [320200, 4158500, 327600, 4166350]\n",
    "extents = [318550, 4157550, 329800, 4167900]\n",
    "# extents, _ = domain_extent.parse_from_file(file_name)\n",
    "extents = domain_extent.condition_to_cellsize(extents, cell_size=50)\n",
    "transform, x, y = domain_extent.affine_transform_from_extents(extents, cell_size)\n",
    "\n",
    "shape = Shapefile(file_name)\n",
    "shape.polygon.plot()\n",
    "\n",
    "print(extents)\n",
    "print(transform)"
   ],
   "outputs": [],
   "metadata": {}
  },
  {
   "cell_type": "code",
   "execution_count": null,
   "source": [
    "feat = features.rasterize(shape.polygon.geometry, out_shape=(len(y), len(x)), fill=0, transform=transform)\n",
    "\n",
    "plt.imshow(feat)\n",
    "plt.colorbar()"
   ],
   "outputs": [],
   "metadata": {}
  },
  {
   "cell_type": "markdown",
   "source": [
    "# Load DEM\n",
    "\n",
    "Reproject and clip to the extents"
   ],
   "metadata": {}
  },
  {
   "cell_type": "code",
   "execution_count": null,
   "source": [
    "dem_file = '../tests/data/dem_epsg_32611_100m.tif'\n",
    "\n",
    "print(domain_extent.parse_from_file(dem_file))\n",
    "\n",
    "# Will be able to change this for xarray>0.18 if move up to newer python version\n",
    "dem = rioxarray.open_rasterio(dem_file)\n",
    "dem.plot()\n",
    "dem.x"
   ],
   "outputs": [],
   "metadata": {}
  },
  {
   "cell_type": "code",
   "execution_count": null,
   "source": [
    "# reproject then clip\n",
    "dem_upsampled = dem.rio.reproject(\n",
    "    dem.rio.crs,\n",
    "    resolution=150,\n",
    "    resampling=Resampling.bilinear,\n",
    ")\n",
    "\n",
    "dem_upsampled.plot()\n",
    "dem_upsampled.rio.resolution()\n",
    "print(extents)\n",
    "dem_upsampled.x\n",
    "# d = dem - dem_upsampled\n",
    "# dem_upsampled"
   ],
   "outputs": [],
   "metadata": {}
  }
 ],
 "metadata": {
  "orig_nbformat": 4,
  "language_info": {
   "name": "python"
  }
 },
 "nbformat": 4,
 "nbformat_minor": 2
}