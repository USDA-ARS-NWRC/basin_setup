{
 "cells": [
  {
   "cell_type": "markdown",
   "source": [
    "# Landfire datasets\n",
    "\n",
    "The two landfire datasets (1.4.0 and 2.0.0) are quite different. A major overhaul of the 2.0.0 vegetation classes was performed and they do not map directly to the older version.\n",
    "\n",
    "This notebook will combine the two vegetation classes csv files to create a single source that `generate_topo` can use. Anytime there is an update to landfire, use this notebook to update the `landfire_veg_param.csv`.\n",
    "\n",
    "> **NOTE** this will overwrite the `landfire_veg_param.csv` file, if changes have been make be sure to add them after running this."
   ],
   "metadata": {}
  },
  {
   "cell_type": "code",
   "execution_count": null,
   "source": [
    "import pandas as pd\n",
    "import numpy as np"
   ],
   "outputs": [],
   "metadata": {}
  },
  {
   "cell_type": "code",
   "execution_count": null,
   "source": [
    "# Landfire files\n",
    "# Change the paths to reflect where these csv files live\n",
    "landfire_140 = '../landfire/landfire_140/US_140EVT_20180618/CSV_Data/LF_140EVT_09152016.csv'\n",
    "landfire_200 = '../landfire/landfire_200/LF2016_EVT_200_CONUS/LF2016_EVT_200_CONUS/CSV_Data/LF16_EVT_200.csv'\n",
    "params = '../basin_setup/generate_topo/vegetation/landfire_veg_param.csv'"
   ],
   "outputs": [],
   "metadata": {}
  },
  {
   "cell_type": "code",
   "execution_count": null,
   "source": [
    "# combine the two landfire datasets using the class names\n",
    "# Drop all the columns that are not needed\n",
    "df140 = pd.read_csv(landfire_140) \n",
    "df200 = pd.read_csv(landfire_200)\n",
    "\n",
    "df140 = df140[['VALUE', 'CLASSNAME']]\n",
    "df200 = df200[['VALUE', 'EVT_NAME']]\n",
    "\n",
    "df140.rename(columns={'VALUE': 'landfire140'}, inplace=True)\n",
    "df200.rename(columns={'VALUE': 'landfire200'}, inplace=True)\n",
    "df200"
   ],
   "outputs": [],
   "metadata": {}
  },
  {
   "cell_type": "code",
   "execution_count": null,
   "source": [
    "# joing on the following columns\n",
    "# 140 - CLASSNAME\n",
    "# 200 - EVT_NAME\n",
    "\n",
    "df_merge = df140.merge(df200, right_on='EVT_NAME', left_on='CLASSNAME')\n",
    "del df_merge['EVT_NAME']\n",
    "df_merge"
   ],
   "outputs": [],
   "metadata": {}
  },
  {
   "cell_type": "code",
   "execution_count": null,
   "source": [
    "# Add classes that are unique\n",
    "df140_other = df140[~df140.landfire140.isin(df_merge.landfire140)]\n",
    "df200_other = df200[~df200.landfire200.isin(df_merge.landfire200)]\n",
    "\n",
    "df200_other.rename(columns={'EVT_NAME': 'CLASSNAME'}, inplace=True)\n",
    "\n",
    "df_full = pd.concat([df_merge, df140_other, df200_other])\n",
    "df_full"
   ],
   "outputs": [],
   "metadata": {}
  },
  {
   "cell_type": "code",
   "execution_count": null,
   "source": [
    "# Add the tau and k values to those that exist\n",
    "# Since this is the first time this has been done, only the landfire 1.4.0 class id's are in there so combine on those\n",
    "# As more are filled in for LF2, then may need to merge on two columns\n",
    "veg = pd.read_csv(params)\n",
    "veg = veg[['landfire140', 'tau', 'k']]\n",
    "veg.dropna(axis=0, how='all', inplace=True)\n",
    "\n",
    "veg_merge = df_full.merge(veg, right_on='landfire140', left_on='landfire140')\n",
    "veg_merge\n",
    "\n",
    "df = pd.concat([veg_merge, df_full[~df_full.landfire140.isin(veg_merge.landfire140)]])\n",
    "df"
   ],
   "outputs": [],
   "metadata": {}
  },
  {
   "cell_type": "code",
   "execution_count": null,
   "source": [
    "# There are many duplicate class names in both datasets, try to eliminate\n",
    "\n",
    "df = df[(~df.landfire140.duplicated()) | (df.landfire140.isnull())]\n",
    "df = df[(~df.landfire200.duplicated()) | (df.landfire200.isnull())]\n",
    "\n",
    "df.reset_index(drop=True, inplace=True)\n",
    "df"
   ],
   "outputs": [],
   "metadata": {}
  },
  {
   "cell_type": "code",
   "execution_count": null,
   "source": [
    "# format and save\n",
    "df = df[['CLASSNAME', 'landfire140', 'landfire200', 'tau', 'k']]\n",
    "df.to_csv(params)"
   ],
   "outputs": [],
   "metadata": {}
  }
 ],
 "metadata": {
  "orig_nbformat": 4,
  "language_info": {
   "name": "python",
   "version": "3.6.6",
   "mimetype": "text/x-python",
   "codemirror_mode": {
    "name": "ipython",
    "version": 3
   },
   "pygments_lexer": "ipython3",
   "nbconvert_exporter": "python",
   "file_extension": ".py"
  },
  "kernelspec": {
   "name": "python3",
   "display_name": "Python 3.6.6 64-bit"
  },
  "interpreter": {
   "hash": "31f2aee4e71d21fbe5cf8b01ff0e069b9275f58929596ceb00d14d90e3e16cd6"
  }
 },
 "nbformat": 4,
 "nbformat_minor": 2
}